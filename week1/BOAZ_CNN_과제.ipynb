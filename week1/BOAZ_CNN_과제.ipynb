{
 "cells": [
  {
   "cell_type": "code",
   "execution_count": 4,
   "metadata": {
    "executionInfo": {
     "elapsed": 6106,
     "status": "ok",
     "timestamp": 1715496376915,
     "user": {
      "displayName": "Ki Di",
      "userId": "11388083629378020019"
     },
     "user_tz": -540
    },
    "id": "gaXvKTIYi6r6"
   },
   "outputs": [],
   "source": [
    "# 그럼 첫번째 레슨 : 라이브러리 불러오기\n",
    "\n",
    "#필요한 딥러닝 관련 라이브러리를 불러옵니다.\n",
    "\n",
    "import tensorflow as tf\n",
    "from tensorflow.keras import datasets, layers, models\n",
    "import matplotlib.pyplot as plt"
   ]
  },
  {
   "cell_type": "code",
   "execution_count": 5,
   "metadata": {
    "colab": {
     "base_uri": "https://localhost:8080/"
    },
    "executionInfo": {
     "elapsed": 5481,
     "status": "ok",
     "timestamp": 1715496384750,
     "user": {
      "displayName": "Ki Di",
      "userId": "11388083629378020019"
     },
     "user_tz": -540
    },
    "id": "JQ4PgaVJjDaZ",
    "outputId": "ade51911-b92c-482c-9734-04f47b24fe54"
   },
   "outputs": [],
   "source": [
    "# 🗂️ Step 2: 데이터 불러오기\n",
    "\n",
    "#CIFAR-10 데이터셋을 불러오고, 학습용/테스트용으로 분리합니다.\n",
    "\n",
    "(train_images, train_labels), (test_images, test_labels) = datasets.cifar10.load_data()\n"
   ]
  },
  {
   "cell_type": "markdown",
   "metadata": {},
   "source": [
    "## 과제1. 데이터의 구조를 살펴보세요. 사이즈는?"
   ]
  },
  {
   "cell_type": "code",
   "execution_count": 6,
   "metadata": {},
   "outputs": [
    {
     "name": "stdout",
     "output_type": "stream",
     "text": [
      "train images shape:  (50000, 32, 32, 3)\n",
      "train labels shape:  (50000, 1)\n",
      "test images shape:  (10000, 32, 32, 3)\n",
      "test labels shape:  (10000, 1)\n"
     ]
    }
   ],
   "source": [
    "# 여기에서 확인해 보세요.\n",
    "print(\"train images shape: \", train_images.shape)\n",
    "print(\"train labels shape: \", train_labels.shape)\n",
    "print(\"test images shape: \", test_images.shape)\n",
    "print(\"test labels shape: \", test_labels.shape)"
   ]
  },
  {
   "cell_type": "code",
   "execution_count": 7,
   "metadata": {
    "colab": {
     "base_uri": "https://localhost:8080/",
     "height": 672
    },
    "executionInfo": {
     "elapsed": 4322,
     "status": "ok",
     "timestamp": 1715496406434,
     "user": {
      "displayName": "Ki Di",
      "userId": "11388083629378020019"
     },
     "user_tz": -540
    },
    "id": "SvdfBtPFjLhm",
    "outputId": "2b6591a8-9efa-42fd-8acd-9edddbcd947c"
   },
   "outputs": [],
   "source": [
    "# 🏷️ Step 3: 클래스 이름 정의\n",
    "\n",
    "#CIFAR-10의 라벨은 숫자로 되어 있으므로, 사람이 이해할 수 있도록 이름을 부여합니다.\n",
    "class_names = ['airplane', 'automobile', 'bird', 'cat', 'deer',\n",
    "               'dog', 'frog', 'horse', 'ship', 'truck']"
   ]
  },
  {
   "cell_type": "markdown",
   "metadata": {},
   "source": [
    "## 과제2. 아래 코드의 빈칸을 채워 CNN 모델을 완성해보세요. \n",
    "#### layer나 패딩 혹은 drop out, batch normalization을 추가해 가며 모델의 정확도 변화를 보는 것도 좋습니다."
   ]
  },
  {
   "cell_type": "code",
   "execution_count": 8,
   "metadata": {
    "executionInfo": {
     "elapsed": 2048,
     "status": "ok",
     "timestamp": 1715496498864,
     "user": {
      "displayName": "Ki Di",
      "userId": "11388083629378020019"
     },
     "user_tz": -540
    },
    "id": "b6KfEI2ljboP"
   },
   "outputs": [],
   "source": [
    "# 🧱 Step 4: CNN 모델 구성\n",
    "# Convolution → MaxPooling → Flatten → Dense 구조로 CNN을 설계합니다.\n",
    "# 아래의 빈칸 (___)을 채워 모델을 완성해보세요.\n",
    "\n",
    "model = models.Sequential()\n",
    "\n",
    "# 첫 번째 합성곱 레이어\n",
    "model.add(layers.Conv2D(32, (3, 3), activation='relu', input_shape=(32, 32, 3)))  # TODO: 커널 개수 설정\n",
    "\n",
    "# 첫 번째 풀링 레이어\n",
    "model.add(layers.MaxPooling2D((2, 2)))  # TODO: 풀링 크기 설정\n",
    "\n",
    "# 두 번째 합성곱 레이어\n",
    "model.add(layers.Conv2D(64, (3, 3), activation='relu'))  # TODO: 커널 크기 설정\n",
    "\n",
    "# 두 번째 풀링 레이어\n",
    "model.add(layers.MaxPooling2D((2, 2)))\n",
    "\n",
    "# 세 번째 합성곱 레이어\n",
    "model.add(layers.Conv2D(64, (3, 3), activation='relu'))  # TODO: 커널 개수 설정\n",
    "\n",
    "# Flatten + Fully Connected Layer\n",
    "model.add(layers.Flatten())\n",
    "model.add(layers.Dense(64))  # TODO: 은닉층 유닛 수 설정\n",
    "model.add(layers.Dense(10))  # 출력층: CIFAR-10은 클래스가 10개"
   ]
  },
  {
   "cell_type": "markdown",
   "metadata": {},
   "source": [
    "## 자신이 채운 코드를 기반으로 각 레이어별 Feature Map 크기를 계산해 보세요. \n",
    "(padding은 디폴트로 없습니다.)"
   ]
  },
  {
   "cell_type": "markdown",
   "metadata": {},
   "source": [
    "Answer: \n",
    "\n",
    "첫번째 합성곱 레이어를 통과한뒤 하나의 입력은 (30, 30, 32) 크기의 feature map을 생성하고 위 코드에 따라 stride가 2인 max pooling 과정을 거치면 (15, 15, 32)의 feature map이 생성된다. \n",
    "\n",
    "두번째 합서곱 레이어를 통과하면 (13, 13, 64) 크기의 feature map을 생성하고 위 코드에 따라 stride가 2인 max pooling 과정을 거치면 (6, 6, 64)의 feature map이 생성된다.\n",
    "\n",
    "마지막 합성곱 레이어를 통과하면 (4, 4, 64)의 feature map을 생성한다.\n",
    "\n",
    "이후 flatten을 통해 1024 크기를 갖게 되고 dense layer를 통과해 64, 최종 dense layer를 통과해 10이 된다."
   ]
  },
  {
   "cell_type": "code",
   "execution_count": 9,
   "metadata": {
    "colab": {
     "base_uri": "https://localhost:8080/"
    },
    "executionInfo": {
     "elapsed": 87492,
     "status": "ok",
     "timestamp": 1715496826651,
     "user": {
      "displayName": "Ki Di",
      "userId": "11388083629378020019"
     },
     "user_tz": -540
    },
    "id": "e5GLqIzikILD",
    "outputId": "9eb72adf-635d-43c6-a577-f8a67a3556d0"
   },
   "outputs": [],
   "source": [
    "# ⚙️ Step 5: 모델 컴파일\n",
    "\n",
    "#모델을 학습할 수 있도록 컴파일합니다. 손실 함수, 최적화 방법, 평가지표를 설정합니다.\n",
    "\n",
    "model.compile(optimizer='adam',\n",
    "              loss=tf.keras.losses.SparseCategoricalCrossentropy(from_logits=True),\n",
    "              metrics=['accuracy'])"
   ]
  },
  {
   "cell_type": "code",
   "execution_count": 40,
   "metadata": {},
   "outputs": [
    {
     "name": "stdout",
     "output_type": "stream",
     "text": [
      "Epoch 1/10\n",
      "1563/1563 [==============================] - 19s 12ms/step - loss: 1.9810 - accuracy: 0.3259 - val_loss: 1.5458 - val_accuracy: 0.4358\n",
      "Epoch 2/10\n",
      "1563/1563 [==============================] - 19s 12ms/step - loss: 1.4448 - accuracy: 0.4779 - val_loss: 1.4002 - val_accuracy: 0.5043\n",
      "Epoch 3/10\n",
      "1563/1563 [==============================] - 19s 12ms/step - loss: 1.2953 - accuracy: 0.5429 - val_loss: 1.2533 - val_accuracy: 0.5535\n",
      "Epoch 4/10\n",
      "1563/1563 [==============================] - 19s 12ms/step - loss: 1.1865 - accuracy: 0.5847 - val_loss: 1.1688 - val_accuracy: 0.5944\n",
      "Epoch 5/10\n",
      "1563/1563 [==============================] - 20s 13ms/step - loss: 1.1038 - accuracy: 0.6141 - val_loss: 1.1535 - val_accuracy: 0.5948\n",
      "Epoch 6/10\n",
      "1563/1563 [==============================] - 22s 14ms/step - loss: 1.0340 - accuracy: 0.6387 - val_loss: 1.1231 - val_accuracy: 0.6156\n",
      "Epoch 7/10\n",
      "1563/1563 [==============================] - 21s 13ms/step - loss: 0.9735 - accuracy: 0.6615 - val_loss: 1.1111 - val_accuracy: 0.6219\n",
      "Epoch 8/10\n",
      "1563/1563 [==============================] - 21s 14ms/step - loss: 0.9314 - accuracy: 0.6758 - val_loss: 1.0589 - val_accuracy: 0.6415\n",
      "Epoch 9/10\n",
      "1563/1563 [==============================] - 21s 14ms/step - loss: 0.8884 - accuracy: 0.6913 - val_loss: 1.0551 - val_accuracy: 0.6473\n",
      "Epoch 10/10\n",
      "1563/1563 [==============================] - 21s 13ms/step - loss: 0.8505 - accuracy: 0.7049 - val_loss: 1.1355 - val_accuracy: 0.6244\n",
      "313/313 - 2s - loss: 1.1355 - accuracy: 0.6244 - 2s/epoch - 5ms/step\n"
     ]
    },
    {
     "data": {
      "image/png": "[encoded data removed]",
      "text/plain": [
       "<Figure size 640x480 with 1 Axes>"
      ]
     },
     "metadata": {},
     "output_type": "display_data"
    }
   ],
   "source": [
    "# 🔥 Step 6: 모델 학습 및 성능 평가\n",
    "\n",
    "history = model.fit(train_images, train_labels, epochs=10,\n",
    "                    validation_data=(test_images, test_labels))\n",
    "#모델 성능 평가\n",
    "plt.plot(history.history['accuracy'],label='accuracy')\n",
    "plt.plot(history.history['val_accuracy'],label = 'val_accuracy')\n",
    "plt.xlabel('Epoch')\n",
    "plt.ylabel('Accuracy')\n",
    "plt.ylim([0.5, 1])\n",
    "plt.legend(loc='lower right')\n",
    "\n",
    "test_loss, test_acc = model.evaluate(test_images,\n",
    "                                     test_labels,\n",
    "                                     verbose=2)\n"
   ]
  },
  {
   "cell_type": "code",
   "execution_count": 41,
   "metadata": {
    "colab": {
     "base_uri": "https://localhost:8080/"
    },
    "executionInfo": {
     "elapsed": 309,
     "status": "ok",
     "timestamp": 1715496854691,
     "user": {
      "displayName": "Ki Di",
      "userId": "11388083629378020019"
     },
     "user_tz": -540
    },
    "id": "Cc2Uh7qqlGAi",
    "outputId": "9169ed3f-ecbf-4598-83fc-ea11f56d8775"
   },
   "outputs": [
    {
     "name": "stdout",
     "output_type": "stream",
     "text": [
      "Test Accuracy is 0.6244000196456909\n"
     ]
    }
   ],
   "source": [
    "print('Test Accuracy is',test_acc)"
   ]
  },
  {
   "cell_type": "markdown",
   "metadata": {},
   "source": [
    "## 과제3. 직접사용해 보기. 이미지를 로드하고 cifar-10의 사이즈로 리사이즈"
   ]
  },
  {
   "cell_type": "code",
   "execution_count": 12,
   "metadata": {
    "id": "Ka8GtI6ElKA2"
   },
   "outputs": [
    {
     "name": "stdout",
     "output_type": "stream",
     "text": [
      "1/1 [==============================] - 0s 149ms/step\n"
     ]
    },
    {
     "data": {
      "image/png": "[encoded data removed]",
      "text/plain": [
       "<Figure size 640x480 with 1 Axes>"
      ]
     },
     "metadata": {},
     "output_type": "display_data"
    }
   ],
   "source": [
    "import numpy as np\n",
    "from tensorflow.keras.preprocessing import image\n",
    "\n",
    "# 새 이미지를 로드하고 모델 예측 수행\n",
    "def predict_new_image(image_path, model, class_names):\n",
    "    # 이미지 로드 및 전처리\n",
    "    img = image.load_img(image_path, target_size=(32, 32, 3))  # CIFAR-10 크기로 리사이즈 빈칸채우기\n",
    "    img_array = image.img_to_array(img)  # 이미지를 배열로 변환\n",
    "    img_array = np.expand_dims(img_array, axis=0)  # 배치를 위해 차원 추가\n",
    "    img_array = img_array / 255.0  # 정규화 \n",
    "\n",
    "    # 예측 수행\n",
    "    predictions = model.predict(img_array)\n",
    "    predicted_class = np.argmax(predictions)  # 가장 높은 확률의 클래스 인덱스\n",
    "    class_name = class_names[predicted_class]  # 클래스 이름\n",
    "\n",
    "    # 결과 출력\n",
    "    plt.imshow(img)\n",
    "    plt.title(f\"Predicted: {class_name}\")\n",
    "    plt.axis('off')\n",
    "    plt.show()\n",
    "\n",
    "# 사용 예시\n",
    "image_path = \"/Users/yoonsjin/BOAZ/1주차/IMG_3294.jpeg\"  # 예측할 이미지의 경로 절대경로를 입력하면 됩니다. 뭔가 자신의 얼굴사진을 넣어보면 재미있는일이...\n",
    "predict_new_image(image_path, model, class_names)\n"
   ]
  },
  {
   "cell_type": "markdown",
   "metadata": {},
   "source": [
    "## 왜 255.0으로 나누었을까요? 이미지 전처리에 대한 지식이니 조사해보세요."
   ]
  },
  {
   "cell_type": "markdown",
   "metadata": {},
   "source": [
    "Answer: \n",
    "\n",
    "이미지의 픽셀은 0부터 255 사이의 값으로 표현되는데 이 값을 그대로 쓸 경우 입력 값의 스케일이 너무 커 학습이 느려지거나 다양한 문제가 발생할 수 있기 때문에 학습을 더 빨리하고 gradient 계산을 안정화하기 위해 모든 값을 255로 나눠 0과 1 사이 값으로 정규화한다."
   ]
  },
  {
   "cell_type": "markdown",
   "metadata": {},
   "source": [
    "## 과제4. CNN의 inductive bias에 대해서 조사를 해보고 생각해 봅시다.\n",
    "### CNN은 왜 이미지 처리에 좋을까요? 이미지 말고도 CNN을 잘 쓸 수 있는데는 어디일까요?"
   ]
  },
  {
   "cell_type": "markdown",
   "metadata": {},
   "source": [
    "Answer:\n",
    "\n",
    "CNN의 inductive bias에는 두가지가 있다. \n",
    "\n",
    "첫번째는 Locality이다. 서로 이웃한 값들끼리는 연관성이 존재한다는 가정이다. CNN은 이미지의 작은 영역에 대해서만 filter를 적용해 서로 이웃한 값들끼리에서만 패턴의 존재 여부를 판단하고 이를 점점 큰 특징으로 확장해 나간다. \n",
    "\n",
    "두번째는 Spatial invariance이다. 입력이 바뀌얻도 관계가 유지된다는 가정이다. 즉, 패턴이 이미지의 어느 위치에 있던지 동일하게 인식한다. 이는 CNN의 parameter sharing을 통해 나타난다. 필터의 패턴을 표현하는 가중치는 이미지 전체의 어떤 부분에 대해서도 동일하게 적용된다.\n",
    "\n",
    "음성 인식이나 오디오 처리 분야에서도 이미지와 유사하게 어떤 시점에 나타나더라도 같은 의미를 가지는 패턴이 존재하고 서로 인접한 음성 데이터들이 연관성을 갖기 때문에 CNN을 잘 적용할 수 있는 분야라고 생각한다. "
   ]
  },
  {
   "cell_type": "markdown",
   "metadata": {},
   "source": []
  }
 ],
 "metadata": {
  "accelerator": "GPU",
  "colab": {
   "authorship_tag": "ABX9TyN8CYc8ZH9vkV2j3L9Mb357",
   "gpuType": "T4",
   "provenance": []
  },
  "kernelspec": {
   "display_name": "tf_env",
   "language": "python",
   "name": "python3"
  },
  "language_info": {
   "codemirror_mode": {
    "name": "ipython",
    "version": 3
   },
   "file_extension": ".py",
   "mimetype": "text/x-python",
   "name": "python",
   "nbconvert_exporter": "python",
   "pygments_lexer": "ipython3",
   "version": "3.10.13"
  }
 },
 "nbformat": 4,
 "nbformat_minor": 0
}
