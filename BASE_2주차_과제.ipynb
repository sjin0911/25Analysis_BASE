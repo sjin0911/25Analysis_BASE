{
  "cells": [
    {
      "cell_type": "markdown",
      "metadata": {
        "id": "view-in-github",
        "colab_type": "text"
      },
      "source": [
        "<a href=\"https://colab.research.google.com/github/BOAZ-bigdata/25Analysis_BASE/blob/Week2/BASE_2%E1%84%8C%E1%85%AE%E1%84%8E%E1%85%A1_%E1%84%80%E1%85%AA%E1%84%8C%E1%85%A6.ipynb\" target=\"_parent\"><img src=\"https://colab.research.google.com/assets/colab-badge.svg\" alt=\"Open In Colab\"/></a>"
      ]
    },
    {
      "cell_type": "markdown",
      "id": "NsCnx8w1eu32",
      "metadata": {
        "id": "NsCnx8w1eu32"
      },
      "source": [
        "### LSTM 셀 구현"
      ]
    },
    {
      "cell_type": "code",
      "execution_count": null,
      "id": "16b47efd",
      "metadata": {
        "id": "16b47efd"
      },
      "outputs": [],
      "source": [
        "#  LSTMCell"
      ]
    },
    {
      "cell_type": "code",
      "execution_count": null,
      "id": "ef1d02a1",
      "metadata": {
        "id": "ef1d02a1"
      },
      "outputs": [],
      "source": [
        "import torch\n",
        "import torch.nn as nn\n",
        "import torchvision.transforms as transforms\n",
        "import torchvision.datasets as dataset\n",
        "from torch.autograd import Variable\n",
        "from torch.nn import Parameter\n",
        "from torch import Tensor\n",
        "import torch.nn.functional as F\n",
        "from torch.utils.data import DataLoader\n",
        "import math\n",
        "\n",
        "device = torch.device('cuda:0' if torch.cuda.is_available() else 'cpu')\n",
        "cuda = True if torch.cuda.is_available() else False\n",
        "\n",
        "Tensor = torch.cuda.FloatTensor if cuda else torch.FloatTensor\n",
        "\n",
        "torch.manual_seed(125)\n",
        "if torch.cuda.is_available():\n",
        "    torch.cuda.manual_seed_all(125)"
      ]
    },
    {
      "cell_type": "code",
      "execution_count": null,
      "id": "4f924588",
      "metadata": {
        "id": "4f924588"
      },
      "outputs": [],
      "source": [
        "import torchvision.transforms as transforms\n",
        "\n",
        "mnist_transform = transforms.Compose([\n",
        "    transforms.ToTensor(),\n",
        "    transforms.Normalize((0.5,), (1.0,))\n",
        "])\n",
        "#정규화"
      ]
    },
    {
      "cell_type": "code",
      "execution_count": null,
      "id": "89954db1",
      "metadata": {
        "colab": {
          "base_uri": "https://localhost:8080/"
        },
        "id": "89954db1",
        "outputId": "c19b6c26-da51-43d8-e6f2-a409e672acb2"
      },
      "outputs": [
        {
          "name": "stderr",
          "output_type": "stream",
          "text": [
            "100%|██████████| 9.91M/9.91M [00:02<00:00, 4.03MB/s]\n",
            "100%|██████████| 28.9k/28.9k [00:00<00:00, 56.6kB/s]\n",
            "100%|██████████| 1.65M/1.65M [00:01<00:00, 1.06MB/s]\n",
            "100%|██████████| 4.54k/4.54k [00:00<00:00, 7.22MB/s]\n"
          ]
        }
      ],
      "source": [
        "from torchvision.datasets import MNIST\n",
        "\n",
        "download_root = 'MNIST_DATASET/'\n",
        "\n",
        "train_dataset = MNIST(download_root, transform=mnist_transform, train=True, download=True)\n",
        "valid_dataset = MNIST(download_root, transform=mnist_transform, train=False, download=True)\n",
        "test_dataset = MNIST(download_root, transform=mnist_transform, train=False, download=True)"
      ]
    },
    {
      "cell_type": "code",
      "execution_count": null,
      "id": "b1f7b5e0",
      "metadata": {
        "id": "b1f7b5e0"
      },
      "outputs": [],
      "source": [
        "batch_size = 64\n",
        "train_loader = DataLoader(dataset=train_dataset,\n",
        "                         batch_size=batch_size,\n",
        "                         shuffle=True)\n",
        "valid_loader = DataLoader(dataset=test_dataset,\n",
        "                         batch_size=batch_size,\n",
        "                         shuffle=True)\n",
        "test_loader = DataLoader(dataset=test_dataset,\n",
        "                         batch_size=batch_size,\n",
        "                         shuffle=True)"
      ]
    },
    {
      "cell_type": "code",
      "execution_count": null,
      "id": "398f4215",
      "metadata": {
        "id": "398f4215"
      },
      "outputs": [],
      "source": [
        "batch_size = 100\n",
        "n_iters = 6000\n",
        "num_epochs = n_iters / (len(train_dataset) / batch_size)\n",
        "num_epochs = int(num_epochs)"
      ]
    },
    {
      "cell_type": "code",
      "execution_count": null,
      "id": "f56f3138",
      "metadata": {
        "id": "f56f3138"
      },
      "outputs": [],
      "source": [
        "#선형 변환은 벡터 행렬 연산을 가능하게 함\n",
        "\n",
        "class LSTMCell(nn.Module):\n",
        "    def __init__(self, input_size, hidden_size, bias=True):\n",
        "        super(LSTMCell, self).__init__()\n",
        "        self.input_size = input_size\n",
        "        self.hidden_size = hidden_size\n",
        "        self.bias = bias\n",
        "        self.x2h = nn.Linear(input_size, 4 * hidden_size, bias=bias)\n",
        "        self.h2h = nn.Linear(hidden_size, 4 * hidden_size, bias=bias)\n",
        "        self.reset_parameters()\n",
        "\n",
        "    def reset_parameters(self):\n",
        "        std = 1.0 / math.sqrt(self.hidden_size)\n",
        "        for w in self.parameters():\n",
        "            w.data.uniform_(-std, std)\n",
        "\n",
        "    def forward(self, x, hidden):\n",
        "        hx, cx = hidden\n",
        "        x = x.view(-1, x.size(1))\n",
        "\n",
        "        gates = self.x2h(x) + self.h2h(hx)\n",
        "        gates = gates.squeeze()\n",
        "        ingate, forgetgate, cellgate, outgate = gates.chunk(4, 1)\n",
        "\n",
        "        ingate = F.sigmoid(ingate)\n",
        "        forgetgate = F.sigmoid(forgetgate)\n",
        "        cellgate = F.tanh(cellgate)\n",
        "        outgate = F.sigmoid(outgate)\n",
        "\n",
        "        cy = torch.mul(cx, forgetgate) +  torch.mul(ingate, cellgate)\n",
        "        hy = torch.mul(outgate, F.tanh(cy))\n",
        "        return (hy, cy)"
      ]
    },
    {
      "cell_type": "code",
      "execution_count": null,
      "id": "e4cfc2b1",
      "metadata": {
        "id": "e4cfc2b1"
      },
      "outputs": [],
      "source": [
        "class LSTMModel(nn.Module):\n",
        "    def __init__(self, input_dim, hidden_dim, layer_dim, output_dim, bias=True):\n",
        "        super(LSTMModel, self).__init__()\n",
        "        self.hidden_dim = hidden_dim\n",
        "\n",
        "        self.layer_dim = layer_dim\n",
        "        self.lstm = LSTMCell(input_dim, hidden_dim, layer_dim)\n",
        "        self.fc = nn.Linear(hidden_dim, output_dim)\n",
        "\n",
        "    def forward(self, x):\n",
        "        if torch.cuda.is_available():\n",
        "            h0 = Variable(torch.zeros(self.layer_dim, x.size(0), self.hidden_dim).cuda())\n",
        "        else:\n",
        "            h0 = Variable(torch.zeros(self.layer_dim, x.size(0), self.hidden_dim))\n",
        "\n",
        "        if torch.cuda.is_available():\n",
        "            c0 = Variable(torch.zeros(self.layer_dim, x.size(0), self.hidden_dim).cuda())\n",
        "        else:\n",
        "            c0 = Variable(torch.zeros(self.layer_dim, x.size(0), hidden_dim))\n",
        "\n",
        "        outs = []\n",
        "        cn = c0[0,:,:]\n",
        "        hn = h0[0,:,:]\n",
        "\n",
        "        for seq in range(x.size(1)):\n",
        "            hn, cn = self.lstm(x[:,seq,:], (hn,cn))\n",
        "            outs.append(hn)\n",
        "\n",
        "        out = outs[-1].squeeze()\n",
        "        out = self.fc(out)\n",
        "        return out"
      ]
    },
    {
      "cell_type": "code",
      "execution_count": null,
      "id": "6cf2c9e9",
      "metadata": {
        "id": "6cf2c9e9"
      },
      "outputs": [],
      "source": [
        "input_dim = 28\n",
        "hidden_dim = 128\n",
        "layer_dim = 1\n",
        "output_dim = 10\n",
        "\n",
        "model = LSTMModel(input_dim, hidden_dim, layer_dim, output_dim)\n",
        "if torch.cuda.is_available():\n",
        "    model.cuda()\n",
        "criterion = nn.CrossEntropyLoss()\n",
        "learning_rate = 0.1\n",
        "optimizer = torch.optim.SGD(model.parameters(), lr=learning_rate)"
      ]
    },
    {
      "cell_type": "code",
      "execution_count": null,
      "id": "d7a6949f",
      "metadata": {
        "colab": {
          "base_uri": "https://localhost:8080/"
        },
        "id": "d7a6949f",
        "outputId": "f5fe6364-00d3-4a8e-d7f6-7a4cc94378fc"
      },
      "outputs": [
        {
          "name": "stdout",
          "output_type": "stream",
          "text": [
            "Iteration: 500. Loss: 2.237457275390625. Accuracy: 21.420000076293945\n",
            "Iteration: 1000. Loss: 0.9968994855880737. Accuracy: 74.94999694824219\n",
            "Iteration: 1500. Loss: 0.42673957347869873. Accuracy: 88.13999938964844\n",
            "Iteration: 2000. Loss: 0.30981600284576416. Accuracy: 93.56999969482422\n",
            "Iteration: 2500. Loss: 0.0558248832821846. Accuracy: 95.69000244140625\n",
            "Iteration: 3000. Loss: 0.09873700886964798. Accuracy: 95.58000183105469\n",
            "Iteration: 3500. Loss: 0.08254366368055344. Accuracy: 96.8499984741211\n",
            "Iteration: 4000. Loss: 0.03308983892202377. Accuracy: 97.08000183105469\n",
            "Iteration: 4500. Loss: 0.049307383596897125. Accuracy: 97.08000183105469\n",
            "Iteration: 5000. Loss: 0.08068697154521942. Accuracy: 96.69999694824219\n",
            "Iteration: 5500. Loss: 0.12790139019489288. Accuracy: 97.30999755859375\n",
            "Iteration: 6000. Loss: 0.007093742024153471. Accuracy: 97.66000366210938\n",
            "Iteration: 6500. Loss: 0.011727366596460342. Accuracy: 97.63999938964844\n",
            "Iteration: 7000. Loss: 0.008610538206994534. Accuracy: 98.06999969482422\n",
            "Iteration: 7500. Loss: 0.027341270819306374. Accuracy: 97.8499984741211\n",
            "Iteration: 8000. Loss: 0.10305538773536682. Accuracy: 97.5199966430664\n",
            "Iteration: 8500. Loss: 0.007204337045550346. Accuracy: 98.13999938964844\n",
            "Iteration: 9000. Loss: 0.012087937444448471. Accuracy: 97.4800033569336\n"
          ]
        }
      ],
      "source": [
        "seq_dim = 28\n",
        "loss_list = []\n",
        "iter = 0\n",
        "for epoch in range(num_epochs):\n",
        "    for i, (images, labels) in enumerate(train_loader):\n",
        "        if torch.cuda.is_available():\n",
        "            images = Variable(images.view(-1, seq_dim, input_dim).cuda())\n",
        "            labels = Variable(labels.cuda())\n",
        "        else:\n",
        "            images = Variable(images.view(-1, seq_dim, input_dim))\n",
        "            labels = Variable(labels)\n",
        "\n",
        "        optimizer.zero_grad()\n",
        "        outputs = model(images)\n",
        "        loss = criterion(outputs, labels)\n",
        "\n",
        "        if torch.cuda.is_available():\n",
        "            loss.cuda()\n",
        "\n",
        "        loss.backward()\n",
        "        optimizer.step()\n",
        "        loss_list.append(loss.item())\n",
        "        iter += 1\n",
        "\n",
        "        if iter % 500 == 0:\n",
        "            correct = 0\n",
        "            total = 0\n",
        "            for images, labels in valid_loader:\n",
        "                if torch.cuda.is_available():\n",
        "                    images = Variable(images.view(-1, seq_dim, input_dim).cuda())\n",
        "                else:\n",
        "                    images = Variable(images.view(-1 , seq_dim, input_dim))\n",
        "\n",
        "                outputs = model(images)\n",
        "                _, predicted = torch.max(outputs.data, 1)\n",
        "\n",
        "                total += labels.size(0)\n",
        "                if torch.cuda.is_available():\n",
        "                    correct += (predicted.cpu() == labels.cpu()).sum()\n",
        "                else:\n",
        "                    correct += (predicted == labels).sum()\n",
        "\n",
        "            accuracy = 100 * correct / total\n",
        "            print('Iteration: {}. Loss: {}. Accuracy: {}'.format(iter, loss.item(), accuracy))"
      ]
    },
    {
      "cell_type": "code",
      "execution_count": null,
      "id": "edb78da9",
      "metadata": {
        "colab": {
          "base_uri": "https://localhost:8080/"
        },
        "id": "edb78da9",
        "outputId": "e68eff0f-efa6-4105-95bb-9da5d9a6fa10"
      },
      "outputs": [
        {
          "name": "stdout",
          "output_type": "stream",
          "text": [
            "Test Loss:  0.07 | Test Accuracy:  0.98\n"
          ]
        }
      ],
      "source": [
        "test_loss, test_acc = evaluate(model,test_loader)\n",
        "print(\"Test Loss: %5.2f | Test Accuracy: %5.2f\" % (test_loss, test_acc))"
      ]
    },
    {
      "cell_type": "markdown",
      "id": "dYrNw4JOe08X",
      "metadata": {
        "id": "dYrNw4JOe08X"
      },
      "source": [
        "### **GRU 셀 구현 (과제)**"
      ]
    },
    {
      "cell_type": "code",
      "execution_count": null,
      "id": "c54668a4",
      "metadata": {
        "id": "c54668a4"
      },
      "outputs": [],
      "source": [
        "# GRUCell"
      ]
    },
    {
      "cell_type": "code",
      "execution_count": 1,
      "id": "d1e52852",
      "metadata": {
        "id": "d1e52852"
      },
      "outputs": [],
      "source": [
        "import torch\n",
        "import torch.nn as nn\n",
        "import torchvision.transforms as transforms\n",
        "import torchvision.datasets as dataset\n",
        "from torch.autograd import Variable\n",
        "from torch.nn import Parameter\n",
        "from torch import Tensor\n",
        "import torch.nn.functional as F\n",
        "from torch.utils.data import DataLoader\n",
        "import math\n",
        "\n",
        "device = torch.device('cuda:0' if torch.cuda.is_available() else 'cpu')\n",
        "cuda = True if torch.cuda.is_available() else False\n",
        "\n",
        "Tensor = torch.cuda.FloatTensor if cuda else torch.FloatTensor\n",
        "\n",
        "torch.manual_seed(125)\n",
        "if torch.cuda.is_available():\n",
        "    torch.cuda.manual_seed_all(125)"
      ]
    },
    {
      "cell_type": "code",
      "execution_count": 2,
      "id": "6a357411",
      "metadata": {
        "id": "6a357411"
      },
      "outputs": [],
      "source": [
        "mnist_transform = transforms.Compose([\n",
        "    transforms.ToTensor(),\n",
        "    transforms.Normalize((0.5,), (1.0,))\n",
        "])"
      ]
    },
    {
      "cell_type": "code",
      "execution_count": 3,
      "id": "e58e536d",
      "metadata": {
        "id": "e58e536d",
        "colab": {
          "base_uri": "https://localhost:8080/"
        },
        "outputId": "aa1f500d-6195-4822-9231-6e5c474b793c"
      },
      "outputs": [
        {
          "output_type": "stream",
          "name": "stderr",
          "text": [
            "100%|██████████| 9.91M/9.91M [00:00<00:00, 17.8MB/s]\n",
            "100%|██████████| 28.9k/28.9k [00:00<00:00, 483kB/s]\n",
            "100%|██████████| 1.65M/1.65M [00:00<00:00, 4.47MB/s]\n",
            "100%|██████████| 4.54k/4.54k [00:00<00:00, 8.34MB/s]\n"
          ]
        }
      ],
      "source": [
        "from torchvision.datasets import MNIST\n",
        "download_root = 'MNIST_DATASET/'\n",
        "\n",
        "train_dataset = MNIST(download_root, transform=mnist_transform, train=True, download=True)\n",
        "valid_dataset = MNIST(download_root, transform=mnist_transform, train=False, download=True)\n",
        "test_dataset = MNIST(download_root, transform=mnist_transform, train=False, download=True)"
      ]
    },
    {
      "cell_type": "code",
      "execution_count": 4,
      "id": "28f097a8",
      "metadata": {
        "id": "28f097a8"
      },
      "outputs": [],
      "source": [
        "batch_size = 64\n",
        "train_loader = DataLoader(dataset=train_dataset,\n",
        "                         batch_size=batch_size,\n",
        "                         shuffle=True)\n",
        "valid_loader = DataLoader(dataset=test_dataset,\n",
        "                         batch_size=batch_size,\n",
        "                         shuffle=True)\n",
        "test_loader = DataLoader(dataset=test_dataset,\n",
        "                         batch_size=batch_size,\n",
        "                         shuffle=True)"
      ]
    },
    {
      "cell_type": "code",
      "execution_count": 5,
      "id": "8e9a258e",
      "metadata": {
        "id": "8e9a258e"
      },
      "outputs": [],
      "source": [
        "batch_size = 100\n",
        "n_iters = 6000\n",
        "num_epochs = n_iters / (len(train_dataset) / batch_size)\n",
        "num_epochs = int(num_epochs)"
      ]
    },
    {
      "cell_type": "markdown",
      "id": "YpeUpVVnfFKd",
      "metadata": {
        "id": "YpeUpVVnfFKd"
      },
      "source": [
        "**과제:** 아래의 GRU 셀을 구현하세요. ### 부분을 채워주시면 됩니다."
      ]
    },
    {
      "cell_type": "code",
      "execution_count": 6,
      "id": "8190f8e5",
      "metadata": {
        "id": "8190f8e5"
      },
      "outputs": [],
      "source": [
        "class GRUCell(nn.Module):\n",
        "    def __init__(self, input_size, hidden_size, bias=True):\n",
        "        super(GRUCell, self).__init__()\n",
        "        self.input_size = input_size\n",
        "        self.hidden_size = hidden_size\n",
        "        self.bias = bias\n",
        "        self.x2h = nn.Linear(input_size, 3 * hidden_size, bias=bias)\n",
        "        self.h2h = nn.Linear(hidden_size, 3 * hidden_size, bias=bias)\n",
        "        self.reset_parameters()\n",
        "\n",
        "    def reset_parameters(self):\n",
        "        std = 1.0 / math.sqrt(self.hidden_size)\n",
        "        for w in self.parameters():\n",
        "            w.data.uniform_(-std, std)\n",
        "\n",
        "    def forward(self, x, hidden):\n",
        "        x = x.view(-1, x.size(1))\n",
        "\n",
        "        gate_x = self.x2h(x)\n",
        "        gate_h = self.h2h(hidden)\n",
        "\n",
        "        gate_x = gate_x.squeeze()\n",
        "        gate_h = gate_h.squeeze()\n",
        "\n",
        "        i_r, i_i, i_n =  gate_x.chunk(3, 1)\n",
        "        h_r, h_i, h_n =  gate_h.chunk(3, 1)\n",
        "        resetgate = torch.sigmoid(i_r + h_r)\n",
        "        inputgate = torch.sigmoid(i_i + h_i)\n",
        "        newgate = torch.tanh(i_n + resetgate * h_n)\n",
        "\n",
        "        hy = newgate + inputgate * (hidden - newgate)\n",
        "        return hy"
      ]
    },
    {
      "cell_type": "code",
      "execution_count": 7,
      "id": "9841480f",
      "metadata": {
        "id": "9841480f"
      },
      "outputs": [],
      "source": [
        "class GRUModel(nn.Module):\n",
        "    def __init__(self, input_dim, hidden_dim, layer_dim, output_dim, bias=True):\n",
        "        super(GRUModel, self).__init__()\n",
        "        self.hidden_dim = hidden_dim\n",
        "        self.layer_dim = layer_dim\n",
        "        self.gru_cell = GRUCell(input_dim, hidden_dim, layer_dim)\n",
        "        self.fc = nn.Linear(hidden_dim, output_dim)\n",
        "\n",
        "    def forward(self, x):\n",
        "        if torch.cuda.is_available():\n",
        "            h0 = Variable(torch.zeros(self.layer_dim, x.size(0), self.hidden_dim).cuda())\n",
        "        else:\n",
        "            h0 = Variable(torch.zeros(self.layer_dim, x.size(0), self.hidden_dim))\n",
        "\n",
        "        outs = []\n",
        "        hn = h0[0,:,:]\n",
        "\n",
        "        for seq in range(x.size(1)):\n",
        "            hn = self.gru_cell(x[:,seq,:], hn)\n",
        "            outs.append(hn)\n",
        "\n",
        "        out = outs[-1].squeeze()\n",
        "        out = self.fc(out)\n",
        "        return out"
      ]
    },
    {
      "cell_type": "code",
      "execution_count": 8,
      "id": "a4328942",
      "metadata": {
        "id": "a4328942"
      },
      "outputs": [],
      "source": [
        "input_dim = 28\n",
        "hidden_dim = 128\n",
        "layer_dim = 1\n",
        "output_dim = 10\n",
        "\n",
        "model = GRUModel(input_dim, hidden_dim, layer_dim, output_dim)\n",
        "\n",
        "if torch.cuda.is_available():\n",
        "    model.cuda()\n",
        "\n",
        "criterion = nn.CrossEntropyLoss()\n",
        "learning_rate = 0.1\n",
        "optimizer = torch.optim.SGD(model.parameters(), lr=learning_rate)"
      ]
    },
    {
      "cell_type": "code",
      "execution_count": 9,
      "id": "880e4755",
      "metadata": {
        "colab": {
          "base_uri": "https://localhost:8080/"
        },
        "id": "880e4755",
        "outputId": "0204cbf0-f3e9-4dca-8793-80d07a637ec2"
      },
      "outputs": [
        {
          "output_type": "stream",
          "name": "stdout",
          "text": [
            "Iteration: 500. Loss: 1.6616928577423096. Accuracy: 43.59000015258789\n",
            "Iteration: 1000. Loss: 0.8945668339729309. Accuracy: 76.19999694824219\n",
            "Iteration: 1500. Loss: 0.29147759079933167. Accuracy: 89.7300033569336\n",
            "Iteration: 2000. Loss: 0.23627927899360657. Accuracy: 93.51000213623047\n",
            "Iteration: 2500. Loss: 0.03288726136088371. Accuracy: 95.05000305175781\n",
            "Iteration: 3000. Loss: 0.030374974012374878. Accuracy: 95.81999969482422\n",
            "Iteration: 3500. Loss: 0.16210567951202393. Accuracy: 96.33999633789062\n",
            "Iteration: 4000. Loss: 0.19308766722679138. Accuracy: 96.19000244140625\n",
            "Iteration: 4500. Loss: 0.051720067858695984. Accuracy: 97.0\n",
            "Iteration: 5000. Loss: 0.13900163769721985. Accuracy: 97.26000213623047\n",
            "Iteration: 5500. Loss: 0.08090294152498245. Accuracy: 97.62000274658203\n",
            "Iteration: 6000. Loss: 0.10488356649875641. Accuracy: 97.69000244140625\n",
            "Iteration: 6500. Loss: 0.07984025031328201. Accuracy: 97.80000305175781\n",
            "Iteration: 7000. Loss: 0.10250380635261536. Accuracy: 97.55999755859375\n",
            "Iteration: 7500. Loss: 0.0647798627614975. Accuracy: 97.86000061035156\n",
            "Iteration: 8000. Loss: 0.10547610372304916. Accuracy: 97.80000305175781\n",
            "Iteration: 8500. Loss: 0.04281146451830864. Accuracy: 98.0199966430664\n",
            "Iteration: 9000. Loss: 0.041988763958215714. Accuracy: 98.22000122070312\n"
          ]
        }
      ],
      "source": [
        "seq_dim = 28\n",
        "loss_list = []\n",
        "iter = 0\n",
        "for epoch in range(num_epochs):\n",
        "    for i, (images, labels) in enumerate(train_loader):\n",
        "        if torch.cuda.is_available():\n",
        "            images = Variable(images.view(-1, seq_dim, input_dim).cuda())\n",
        "            labels = Variable(labels.cuda())\n",
        "        else:\n",
        "            images = Variable(images.view(-1, seq_dim, input_dim))\n",
        "            labels = Variable(labels)\n",
        "\n",
        "        optimizer.zero_grad()\n",
        "        outputs = model(images)\n",
        "        loss = criterion(outputs, labels)\n",
        "\n",
        "        if torch.cuda.is_available():\n",
        "            loss.cuda()\n",
        "\n",
        "        loss.backward()\n",
        "        optimizer.step()\n",
        "\n",
        "        loss_list.append(loss.item())\n",
        "        iter += 1\n",
        "\n",
        "        if iter % 500 == 0:\n",
        "            correct = 0\n",
        "            total = 0\n",
        "            for images, labels in valid_loader:\n",
        "                if torch.cuda.is_available():\n",
        "                    images = Variable(images.view(-1, seq_dim, input_dim).cuda())\n",
        "                else:\n",
        "                    images = Variable(images.view(-1 , seq_dim, input_dim))\n",
        "\n",
        "                outputs = model(images)\n",
        "                _, predicted = torch.max(outputs.data, 1)\n",
        "                total += labels.size(0)\n",
        "\n",
        "                if torch.cuda.is_available():\n",
        "                    correct += (predicted.cpu() == labels.cpu()).sum()\n",
        "                else:\n",
        "                    correct += (predicted == labels).sum()\n",
        "\n",
        "            accuracy = 100 * correct / total\n",
        "            print('Iteration: {}. Loss: {}. Accuracy: {}'.format(iter, loss.item(), accuracy))"
      ]
    },
    {
      "cell_type": "code",
      "execution_count": 10,
      "id": "3bc673b9",
      "metadata": {
        "id": "3bc673b9"
      },
      "outputs": [],
      "source": [
        "def evaluate(model, val_iter):\n",
        "    corrects, total, total_loss = 0, 0, 0\n",
        "    model.eval()\n",
        "    for images, labels in val_iter:\n",
        "        if torch.cuda.is_available():\n",
        "            images = Variable(images.view(-1, seq_dim, input_dim).cuda())\n",
        "        else:\n",
        "            images = Variable(images.view(-1 , seq_dim, input_dim)).to(device)\n",
        "        labels = labels.cuda()\n",
        "        logit = model(images).cuda()\n",
        "        loss = F.cross_entropy(logit, labels, reduction = \"sum\")\n",
        "        _, predicted = torch.max(logit.data, 1)\n",
        "        total += labels.size(0)\n",
        "        total_loss += loss.item()\n",
        "        corrects += (predicted == labels).sum()\n",
        "\n",
        "    avg_loss = total_loss / len(val_iter.dataset)\n",
        "    avg_accuracy = corrects / total\n",
        "    return avg_loss, avg_accuracy"
      ]
    },
    {
      "cell_type": "code",
      "execution_count": 11,
      "id": "c6080b17",
      "metadata": {
        "colab": {
          "base_uri": "https://localhost:8080/"
        },
        "id": "c6080b17",
        "outputId": "bea53fc7-9653-4409-e37f-2fcc7dc5fd9e"
      },
      "outputs": [
        {
          "output_type": "stream",
          "name": "stdout",
          "text": [
            "Test Loss:  0.07 | Test Accuracy:  0.98\n"
          ]
        }
      ],
      "source": [
        "test_loss, test_acc = evaluate(model,test_loader)\n",
        "print(\"Test Loss: %5.2f | Test Accuracy: %5.2f\" % (test_loss, test_acc))"
      ]
    },
    {
      "cell_type": "markdown",
      "source": [
        "1.LSTM 기반 Seq2Seq 모델에서 디코딩할 때 사용하는 Beam Search 동작 방식에 대해서 설명."
      ],
      "metadata": {
        "id": "eV7XXDgTVvm3"
      },
      "id": "eV7XXDgTVvm3"
    },
    {
      "cell_type": "markdown",
      "source": [
        "초기 상태: 디코더는 <EOS> 토큰이 나올 때까지 출력을 생성하며, 첫 시작은 고정된 시작 토큰 <SOS>입니다.\n",
        "\n",
        "빔 유지: 현재까지 생성된 후보 시퀀스 중에서 상위 B개만 유지합니다. 여기서 B는 beam width입니다.\n",
        "\n",
        "확장: 각 후보 시퀀스는 다음 가능한 단어들(전체 vocabulary)에 대해 확장됩니다.\n",
        "\n",
        "스코어 계산: 확장된 모든 시퀀스에 대해 누적 log 확률 (log probability)을 계산하여 다시 상위 B개를 선택합니다.\n",
        "\n",
        "종료 조건: <EOS> 토큰이 생성된 시퀀스는 완성된 결과로 따로 저장되며 beam에서 제거됩니다.\n",
        "\n",
        "출력: 최종적으로 log 확률이 가장 높은 시퀀스를 출력 결과로 사용합니다.\n",
        "\n",
        "Beam width가 클수록 다양한 후보를 고려하지만 계산 비용이 증가합니다."
      ],
      "metadata": {
        "id": "JebW6e_nV1ZY"
      },
      "id": "JebW6e_nV1ZY"
    },
    {
      "cell_type": "markdown",
      "source": [
        "2.Seq2Seq with LSTM 모델은 Attention이 없던 시절 제안된 구조임. 기본 Seq2Seq 모델의 한계와\n",
        "이후 Attention 메커니즘이 이 한계를 어떻게 보완했는지 설명."
      ],
      "metadata": {
        "id": "B3XCTj3CV0u8"
      },
      "id": "B3XCTj3CV0u8"
    },
    {
      "cell_type": "markdown",
      "source": [
        "고정된 벡터 인코딩의 정보 손실: 인코더 LSTM은 입력 시퀀스를 하나의 고정된 벡터로 요약합니다. 긴 문장일수록 정보 손실이 심각합니다.\n",
        "\n",
        "장기 의존성 문제: 초반 입력과 후반 출력 사이의 관계를 학습하기 어렵습니다.\n",
        "\n",
        "최소 시간 지연(minimal time lag) 문제: 입력과 출력 사이의 의미 대응 단어가 물리적으로 멀리 떨어져 있어 학습이 어려움.\n",
        "\n",
        "Attention은 디코딩 시점마다 인코딩된 모든 hidden state를 참조하여, 어느 부분을 \"중요하게 볼지\" soft attention weight를 통해 동적으로 결정합니다.\n",
        "\n",
        "이로 인해:\n",
        "- 모든 입력 단어에 대한 정보를 압축하지 않고 그대로 활용 가능\n",
        "\n",
        "- 긴 문장도 잘 처리 가능\n",
        "\n",
        "- 번역 품질 및 BLEU score가 크게 향상됨\n",
        "\n"
      ],
      "metadata": {
        "id": "WnK9qalMV-fq"
      },
      "id": "WnK9qalMV-fq"
    }
  ],
  "metadata": {
    "accelerator": "GPU",
    "colab": {
      "provenance": [],
      "include_colab_link": true
    },
    "kernelspec": {
      "display_name": "Python 3 (ipykernel)",
      "language": "python",
      "name": "python3"
    },
    "language_info": {
      "codemirror_mode": {
        "name": "ipython",
        "version": 3
      },
      "file_extension": ".py",
      "mimetype": "text/x-python",
      "name": "python",
      "nbconvert_exporter": "python",
      "pygments_lexer": "ipython3",
      "version": "3.9.7"
    }
  },
  "nbformat": 4,
  "nbformat_minor": 5
}